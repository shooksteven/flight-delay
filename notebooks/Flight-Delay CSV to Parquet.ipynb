{
 "cells": [
  {
   "cell_type": "code",
   "execution_count": null,
   "id": "7f678869",
   "metadata": {},
   "outputs": [],
   "source": [
    "from pyspark.sql import SparkSession\n",
    "from pyspark.sql import types \n",
    "\n",
    "# Spark session & context\n",
    "spark = SparkSession.builder.master('local').getOrCreate()\n",
    "sc = spark.sparkContext"
   ]
  },
  {
   "cell_type": "code",
   "execution_count": null,
   "id": "fc48d671",
   "metadata": {},
   "outputs": [],
   "source": [
    "# TODO: specify the data input directory - this will read all CSV files from this directory\n",
    "flightDF = spark.read.csv(\"data/sample (1).csv\", header=\"True\", sep=\",\", inferSchema=\"False\", nullValue=\"NA\")\n",
    "flightDF.show(2)\n",
    "flightDF.printSchema()"
   ]
  },
  {
   "cell_type": "code",
   "execution_count": null,
   "id": "875d0262",
   "metadata": {},
   "outputs": [],
   "source": [
    "columnList = [\"Year\", \"Month\", \"DayofMonth\", \"DepTime\", \"UniqueCarrier\", \"FlightNum\", \"ArrDelay\", \"Origin\", \"Dest\"]\n",
    "flightDF = flightDF.select(columnList)\n",
    "flightDF = flightDF.withColumn(\"ArrDelay\", flightDF.ArrDelay.cast(\"int\"))\n",
    "flightDF.printSchema()"
   ]
  },
  {
   "cell_type": "code",
   "execution_count": null,
   "id": "f0cf877f",
   "metadata": {},
   "outputs": [],
   "source": [
    "flightDF.write.parquet(\"wooo.parquet\") "
   ]
  }
 ],
 "metadata": {
  "kernelspec": {
   "display_name": "Python 3",
   "language": "python",
   "name": "python3"
  },
  "language_info": {
   "codemirror_mode": {
    "name": "ipython",
    "version": 3
   },
   "file_extension": ".py",
   "mimetype": "text/x-python",
   "name": "python",
   "nbconvert_exporter": "python",
   "pygments_lexer": "ipython3",
   "version": "3.9.4"
  }
 },
 "nbformat": 4,
 "nbformat_minor": 5
}
